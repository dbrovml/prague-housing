{
 "cells": [
  {
   "attachments": {},
   "cell_type": "markdown",
   "metadata": {},
   "source": [
    "## Environment"
   ]
  },
  {
   "cell_type": "code",
   "execution_count": 292,
   "metadata": {},
   "outputs": [],
   "source": [
    "from sklearn.model_selection import RepeatedKFold\n",
    "from hyperopt import tpe, hp, fmin, STATUS_OK\n",
    "from sklearn.model_selection import KFold\n",
    "from hyperopt.pyll import scope\n",
    "from hyperopt import Trials\n",
    "\n",
    "from sklearn.linear_model import LinearRegression\n",
    "from sklearn.metrics import mean_absolute_error\n",
    "from sklearn.metrics import mean_squared_error\n",
    "from lightgbm import plot_importance\n",
    "import lightgbm as lgb\n",
    "import pandas as pd\n",
    "import numpy as np"
   ]
  },
  {
   "cell_type": "code",
   "execution_count": 293,
   "metadata": {},
   "outputs": [],
   "source": [
    "from IPython.display import clear_output\n",
    "SEED = 1337; np.random.seed(SEED)\n",
    "rss= np.random.default_rng (SEED)\n",
    "TARGET_COL = \"num_price\""
   ]
  },
  {
   "attachments": {},
   "cell_type": "markdown",
   "metadata": {},
   "source": [
    "## Load inputs"
   ]
  },
  {
   "cell_type": "code",
   "execution_count": 294,
   "metadata": {},
   "outputs": [
    {
     "name": "stdout",
     "output_type": "stream",
     "text": [
      "(5547, 26)\n"
     ]
    }
   ],
   "source": [
    "df   = pd.read_parquet(\"./.data/features\")\n",
    "print(df.shape)"
   ]
  },
  {
   "attachments": {},
   "cell_type": "markdown",
   "metadata": {},
   "source": [
    "## Drop outliers in target"
   ]
  },
  {
   "cell_type": "code",
   "execution_count": 295,
   "metadata": {},
   "outputs": [
    {
     "name": "stdout",
     "output_type": "stream",
     "text": [
      "IQR-based MIN outlier price: 17.212324\n",
      "IQR-based MAX outlier price: 129.0\n",
      "IQR-based num of outliers  : 379\n"
     ]
    }
   ],
   "source": [
    "# use the 1.5 * IQR rule\n",
    "q1 = np.quantile(df[TARGET_COL], 0.25); q3 = np.quantile(df[TARGET_COL], 0.75); iqr = q3 - q1\n",
    "cond = \"(df[TARGET_COL] <= q1 - 1.5 * iqr) | (df[TARGET_COL] >= q3 + 1.5 * iqr)\"\n",
    "outliers = df.loc[eval(cond), [\"num_price\", \"num_area\"]]\n",
    "df = df.loc[~eval(cond), :]\n",
    "ids_ = df.pop(\"id\")\n",
    "\n",
    "print(f\"IQR-based MIN outlier price: {outliers[TARGET_COL].min()}\")\n",
    "print(f\"IQR-based MAX outlier price: {outliers[TARGET_COL].max()}\")\n",
    "print(f\"IQR-based num of outliers  : {outliers.shape[0]}\")"
   ]
  },
  {
   "attachments": {},
   "cell_type": "markdown",
   "metadata": {},
   "source": [
    "## Index categorical features"
   ]
  },
  {
   "cell_type": "code",
   "execution_count": 296,
   "metadata": {},
   "outputs": [],
   "source": [
    "# separate features and target\n",
    "X = df; y = X.pop(TARGET_COL)\n",
    "cat_features = [col for col in X.columns if \"cat\" in col]\n",
    "\n",
    "# int-encode cat feature levels\n",
    "encoder_feature_maps = {}\n",
    "decoder_feature_maps = {}\n",
    "for feature in cat_features:\n",
    "    levels = X[feature].unique()\n",
    "    encoder_feature_map = {level: idx for idx, level in enumerate(levels)}\n",
    "    encoder_feature_maps.update({feature: encoder_feature_map})\n",
    "    decoder_feature_map = {idx: level for idx, level in enumerate(levels)}\n",
    "    decoder_feature_maps.update({feature: encoder_feature_map})\n",
    "    df[feature] = df[feature].map(encoder_feature_map)\n",
    "\n",
    "# append flag features to categorical features list\n",
    "cat_features = cat_features + [col for col in X.columns if \"has\" in col  ]"
   ]
  },
  {
   "attachments": {},
   "cell_type": "markdown",
   "metadata": {},
   "source": [
    "## Sample test set and prepare K-fold cross-validation"
   ]
  },
  {
   "cell_type": "code",
   "execution_count": 297,
   "metadata": {},
   "outputs": [],
   "source": [
    "# make index and shuffle to ensure rand\n",
    "idx = np.arange(df.shape[0])\n",
    "np.random.shuffle(idx)\n",
    "\n",
    "# sample test set\n",
    "num_test_obs = 750\n",
    "test_idx = idx[:num_test_obs]\n",
    "X_test = X.iloc[test_idx,:  ]\n",
    "y_test = y.iloc[test_idx    ]\n",
    "idx    = idx[num_test_obs:  ]\n",
    "\n",
    "# prepare K-folds\n",
    "train_folds = []\n",
    "valid_folds = []\n",
    "for train_idx, valid_idx in KFold(n_splits=5, shuffle=True).split(idx):\n",
    "    \n",
    "    # subset train / valid folds\n",
    "    X_train = X.iloc[train_idx, :]; y_train = y.iloc[train_idx]\n",
    "    X_valid = X.iloc[valid_idx, :]; y_valid = y.iloc[valid_idx]\n",
    "\n",
    "    # collect materialized folds\n",
    "    train_folds.append((X_train, y_train))\n",
    "    valid_folds.append((X_valid, y_valid))"
   ]
  },
  {
   "attachments": {},
   "cell_type": "markdown",
   "metadata": {},
   "source": [
    "## Establish trivial benchmarks to be beaten"
   ]
  },
  {
   "cell_type": "code",
   "execution_count": 298,
   "metadata": {},
   "outputs": [
    {
     "name": "stdout",
     "output_type": "stream",
     "text": [
      "Simple mean validation MAE: 2.485513554540675\n"
     ]
    }
   ],
   "source": [
    "valid_fold_loss = []\n",
    "# iterate over folds\n",
    "for (X_train, y_train), (X_valid, y_valid) in zip(train_folds, valid_folds):\n",
    "    h_valid = [np.mean(y_train) for _ in range(len(y_valid))]\n",
    "    mae = mean_absolute_error(y_valid, h_valid)\n",
    "    valid_fold_loss.append(mae)\n",
    "\n",
    "# compute total loss\n",
    "valid_loss = np.mean(valid_fold_loss )\n",
    "print(f\"Simple mean validation MAE: {valid_loss}\")"
   ]
  },
  {
   "cell_type": "code",
   "execution_count": 299,
   "metadata": {},
   "outputs": [
    {
     "name": "stdout",
     "output_type": "stream",
     "text": [
      "Simple num-feature OLS validation MAE: 1.5541430517907364\n"
     ]
    }
   ],
   "source": [
    "valid_fold_loss = []\n",
    "# iterate over folds\n",
    "num_features = [col for col in X.columns if \"num\" in col] + [col for col in X.columns if \"has\" in col]\n",
    "for (X_train, y_train), (X_valid, y_valid) in zip(train_folds, valid_folds):\n",
    "\n",
    "    X_train = X_train.loc[:, num_features]\n",
    "    X_valid = X_valid.loc[:, num_features]\n",
    "    model   = LinearRegression().fit(X_train, y_train)\n",
    "    valid_fold_loss.append(mean_absolute_error(y_valid, model.predict(X_valid)))\n",
    "\n",
    "# compute total loss\n",
    "valid_loss = np.mean(valid_fold_loss )\n",
    "print(f\"Simple num-feature OLS validation MAE: {valid_loss}\")"
   ]
  },
  {
   "attachments": {},
   "cell_type": "markdown",
   "metadata": {},
   "source": [
    "## Tune a LightGBM regressor with hyperopt"
   ]
  },
  {
   "cell_type": "code",
   "execution_count": 300,
   "metadata": {},
   "outputs": [],
   "source": [
    "hyperparam_space = {\n",
    "    \"n_estimators\"       : scope.int(hp.quniform(\"n_estimators\", 100 , 750, 1)), # capacity param (related to learning_rate) -- tunable\n",
    "    \"num_leaves\"         : scope.int(hp.quniform(\"num_leaves\"  , 5   , 80 , 1)), # capacity param (related to max_depth    ) -- tunable\n",
    "    \"learning_rate\"      : hp.uniform(\"learning_rate\"   , 0.01, 0.1)           , # capacity param (related to n_estimators ) -- tunable \n",
    "    \"colsample_bytree\"   : hp.uniform(\"colsample_bytree\", 0.50, 1.0)           , # reg. param -- tunable\n",
    "    \"reg_lambda\"         : hp.uniform(\"reg_lambda\"      , 0.00, 0.3)           , # reg. param -- tunable\n",
    "    \"subsample\"          : hp.uniform(\"subsample\"       , 0.50, 1.0)           , # reg. param -- tunable\n",
    "}\n",
    "\n",
    "constant_params  = {\n",
    "    \"objective\"          : \"l2\", # Mean Squared Error\n",
    "    \"max_depth\"          : -1  , # capacity param\n",
    "    \"max_bin\"            : 450 , # reg. param\n",
    "    \"subsample_freq\"     : 5   , # reg. param\n",
    "    \"force_row_wise\"     : True, # compute param\n",
    "    \"n_jobs\"             : -1  , # compute param\n",
    "    \"seed\"               : SEED, # compute param\n",
    "    \"verbose\"            : -1  , # compute param\n",
    "}\n",
    "\n",
    "def objective(params):\n",
    "\n",
    "    # make loss containers\n",
    "    train_fold_loss = []\n",
    "    valid_fold_loss = []\n",
    "\n",
    "    # iterate over folds\n",
    "    for (X_train, y_train), (X_valid, y_valid) in zip(train_folds, valid_folds):\n",
    "\n",
    "        # fit a model\n",
    "        model = (\n",
    "            lgb.LGBMRegressor(**params, **constant_params) .fit(\n",
    "                X_train, y_train, feature_name=X.columns.tolist(), \n",
    "                categorical_feature=cat_features,\n",
    "            )\n",
    "        )\n",
    "        \n",
    "        # compute loss\n",
    "        mse = mean_squared_error(y_valid, model.predict(X_valid))\n",
    "        valid_fold_loss.append(np.sqrt(mse)) \n",
    "        mse = mean_squared_error(y_train, model.predict(X_train))\n",
    "        train_fold_loss.append(np.sqrt(mse))\n",
    "    \n",
    "    clear_output()\n",
    "    # compute total loss\n",
    "    valid_loss = np.mean(valid_fold_loss)\n",
    "    train_loss = np.mean(train_fold_loss)\n",
    "    \n",
    "    return {\n",
    "        \"loss\": valid_loss + (valid_loss - train_loss), \n",
    "        \"valid_loss\": valid_loss, \n",
    "        \"train_loss\": train_loss, \n",
    "        \"status\": STATUS_OK\n",
    "    }"
   ]
  },
  {
   "cell_type": "code",
   "execution_count": 301,
   "metadata": {},
   "outputs": [
    {
     "name": "stdout",
     "output_type": "stream",
     "text": [
      "100%|██████████| 200/200 [05:24<00:00,  1.62s/trial, best loss: 1.5000136595495897]\n"
     ]
    }
   ],
   "source": [
    "trials = Trials(); argmin = fmin(\n",
    "    fn=objective, algo=tpe.suggest, max_evals=200,\n",
    "    space=hyperparam_space, trials=trials, \n",
    "    rstate=rss,\n",
    ")"
   ]
  },
  {
   "cell_type": "code",
   "execution_count": 302,
   "metadata": {},
   "outputs": [
    {
     "data": {
      "text/html": [
       "<div>\n",
       "<style scoped>\n",
       "    .dataframe tbody tr th:only-of-type {\n",
       "        vertical-align: middle;\n",
       "    }\n",
       "\n",
       "    .dataframe tbody tr th {\n",
       "        vertical-align: top;\n",
       "    }\n",
       "\n",
       "    .dataframe thead th {\n",
       "        text-align: right;\n",
       "    }\n",
       "</style>\n",
       "<table border=\"1\" class=\"dataframe\">\n",
       "  <thead>\n",
       "    <tr style=\"text-align: right;\">\n",
       "      <th></th>\n",
       "      <th>loss</th>\n",
       "      <th>valid_loss</th>\n",
       "      <th>train_loss</th>\n",
       "      <th>colsample_bytree</th>\n",
       "      <th>learning_rate</th>\n",
       "      <th>n_estimators</th>\n",
       "      <th>num_leaves</th>\n",
       "      <th>reg_lambda</th>\n",
       "      <th>subsample</th>\n",
       "    </tr>\n",
       "  </thead>\n",
       "  <tbody>\n",
       "    <tr>\n",
       "      <th>144</th>\n",
       "      <td>1.500014</td>\n",
       "      <td>1.358995</td>\n",
       "      <td>1.217976</td>\n",
       "      <td>0.755258</td>\n",
       "      <td>0.045513</td>\n",
       "      <td>287.0</td>\n",
       "      <td>5.0</td>\n",
       "      <td>0.207164</td>\n",
       "      <td>0.950021</td>\n",
       "    </tr>\n",
       "    <tr>\n",
       "      <th>116</th>\n",
       "      <td>1.501042</td>\n",
       "      <td>1.377538</td>\n",
       "      <td>1.254035</td>\n",
       "      <td>0.742308</td>\n",
       "      <td>0.054978</td>\n",
       "      <td>120.0</td>\n",
       "      <td>7.0</td>\n",
       "      <td>0.129544</td>\n",
       "      <td>0.940970</td>\n",
       "    </tr>\n",
       "    <tr>\n",
       "      <th>143</th>\n",
       "      <td>1.502097</td>\n",
       "      <td>1.361845</td>\n",
       "      <td>1.221593</td>\n",
       "      <td>0.755330</td>\n",
       "      <td>0.046308</td>\n",
       "      <td>211.0</td>\n",
       "      <td>6.0</td>\n",
       "      <td>0.191448</td>\n",
       "      <td>0.946643</td>\n",
       "    </tr>\n",
       "    <tr>\n",
       "      <th>159</th>\n",
       "      <td>1.502852</td>\n",
       "      <td>1.350004</td>\n",
       "      <td>1.197157</td>\n",
       "      <td>0.635810</td>\n",
       "      <td>0.048420</td>\n",
       "      <td>246.0</td>\n",
       "      <td>6.0</td>\n",
       "      <td>0.241556</td>\n",
       "      <td>0.953368</td>\n",
       "    </tr>\n",
       "    <tr>\n",
       "      <th>191</th>\n",
       "      <td>1.504054</td>\n",
       "      <td>1.416013</td>\n",
       "      <td>1.327972</td>\n",
       "      <td>0.550708</td>\n",
       "      <td>0.040892</td>\n",
       "      <td>130.0</td>\n",
       "      <td>6.0</td>\n",
       "      <td>0.226935</td>\n",
       "      <td>0.978685</td>\n",
       "    </tr>\n",
       "    <tr>\n",
       "      <th>184</th>\n",
       "      <td>1.504083</td>\n",
       "      <td>1.354711</td>\n",
       "      <td>1.205338</td>\n",
       "      <td>0.677470</td>\n",
       "      <td>0.033640</td>\n",
       "      <td>422.0</td>\n",
       "      <td>5.0</td>\n",
       "      <td>0.176628</td>\n",
       "      <td>0.985516</td>\n",
       "    </tr>\n",
       "    <tr>\n",
       "      <th>128</th>\n",
       "      <td>1.505492</td>\n",
       "      <td>1.362652</td>\n",
       "      <td>1.219811</td>\n",
       "      <td>0.699443</td>\n",
       "      <td>0.064060</td>\n",
       "      <td>160.0</td>\n",
       "      <td>6.0</td>\n",
       "      <td>0.207376</td>\n",
       "      <td>0.883888</td>\n",
       "    </tr>\n",
       "    <tr>\n",
       "      <th>90</th>\n",
       "      <td>1.507270</td>\n",
       "      <td>1.384930</td>\n",
       "      <td>1.262589</td>\n",
       "      <td>0.965575</td>\n",
       "      <td>0.052977</td>\n",
       "      <td>113.0</td>\n",
       "      <td>7.0</td>\n",
       "      <td>0.093060</td>\n",
       "      <td>0.907228</td>\n",
       "    </tr>\n",
       "    <tr>\n",
       "      <th>168</th>\n",
       "      <td>1.509054</td>\n",
       "      <td>1.445605</td>\n",
       "      <td>1.382156</td>\n",
       "      <td>0.520436</td>\n",
       "      <td>0.032573</td>\n",
       "      <td>142.0</td>\n",
       "      <td>6.0</td>\n",
       "      <td>0.234975</td>\n",
       "      <td>0.517663</td>\n",
       "    </tr>\n",
       "    <tr>\n",
       "      <th>66</th>\n",
       "      <td>1.509092</td>\n",
       "      <td>1.360538</td>\n",
       "      <td>1.211985</td>\n",
       "      <td>0.887812</td>\n",
       "      <td>0.048816</td>\n",
       "      <td>279.0</td>\n",
       "      <td>5.0</td>\n",
       "      <td>0.281479</td>\n",
       "      <td>0.793745</td>\n",
       "    </tr>\n",
       "  </tbody>\n",
       "</table>\n",
       "</div>"
      ],
      "text/plain": [
       "         loss  valid_loss  train_loss  colsample_bytree  learning_rate  \\\n",
       "144  1.500014    1.358995    1.217976          0.755258       0.045513   \n",
       "116  1.501042    1.377538    1.254035          0.742308       0.054978   \n",
       "143  1.502097    1.361845    1.221593          0.755330       0.046308   \n",
       "159  1.502852    1.350004    1.197157          0.635810       0.048420   \n",
       "191  1.504054    1.416013    1.327972          0.550708       0.040892   \n",
       "184  1.504083    1.354711    1.205338          0.677470       0.033640   \n",
       "128  1.505492    1.362652    1.219811          0.699443       0.064060   \n",
       "90   1.507270    1.384930    1.262589          0.965575       0.052977   \n",
       "168  1.509054    1.445605    1.382156          0.520436       0.032573   \n",
       "66   1.509092    1.360538    1.211985          0.887812       0.048816   \n",
       "\n",
       "     n_estimators  num_leaves  reg_lambda  subsample  \n",
       "144         287.0         5.0    0.207164   0.950021  \n",
       "116         120.0         7.0    0.129544   0.940970  \n",
       "143         211.0         6.0    0.191448   0.946643  \n",
       "159         246.0         6.0    0.241556   0.953368  \n",
       "191         130.0         6.0    0.226935   0.978685  \n",
       "184         422.0         5.0    0.176628   0.985516  \n",
       "128         160.0         6.0    0.207376   0.883888  \n",
       "90          113.0         7.0    0.093060   0.907228  \n",
       "168         142.0         6.0    0.234975   0.517663  \n",
       "66          279.0         5.0    0.281479   0.793745  "
      ]
     },
     "execution_count": 302,
     "metadata": {},
     "output_type": "execute_result"
    }
   ],
   "source": [
    "parsed_trials = []\n",
    "for trial in trials:\n",
    "\n",
    "    # extract loss vals and params\n",
    "    vloss  = trial[\"result\"][\"valid_loss\"]\n",
    "    tloss  = trial[\"result\"][\"train_loss\"]\n",
    "    loss   = trial[\"result\"][\"loss\"]\n",
    "    params = trial[\"misc\"  ][\"vals\"]\n",
    "\n",
    "    # put together parsed trial\n",
    "    params = {k:v[0] for k, v in params.items()}\n",
    "    result = {**{\"train_loss\": tloss}, **params}\n",
    "    result = {**{\"valid_loss\": vloss}, **result}\n",
    "    result = {**{\"loss\": loss}, **result}\n",
    "    parsed_trials.append(result)\n",
    "\n",
    "# report parsed trials\n",
    "parsed_trials = pd.DataFrame(parsed_trials)\n",
    "parsed_trials.sort_values(\"loss\").head(10 )"
   ]
  },
  {
   "attachments": {},
   "cell_type": "markdown",
   "metadata": {},
   "source": [
    "## Compute test error"
   ]
  },
  {
   "cell_type": "code",
   "execution_count": 303,
   "metadata": {},
   "outputs": [],
   "source": [
    "X_train_full = pd.concat((train_folds[0][0], valid_folds[0][0]), axis=0, ignore_index=True)\n",
    "y_train_full = pd.concat((train_folds[0][1], valid_folds[0][1]))\n",
    "\n",
    "argmin[\"n_estimators\"] = int(argmin[\"n_estimators\"])\n",
    "argmin[\"num_leaves\"  ] = int(argmin[\"num_leaves\"  ])\n",
    "\n",
    "full_model   = (\n",
    "    lgb.LGBMRegressor(**argmin, **constant_params) .fit(\n",
    "        X_train_full, y_train_full, \n",
    "        feature_name=X.columns.tolist() , \n",
    "        categorical_feature=cat_features,\n",
    "    )\n",
    ")\n",
    "\n",
    "clear_output()"
   ]
  },
  {
   "cell_type": "code",
   "execution_count": 304,
   "metadata": {},
   "outputs": [
    {
     "name": "stdout",
     "output_type": "stream",
     "text": [
      "Test MAE: 0.879221852214562, Test RMSE: 1.2258584285801113\n"
     ]
    },
    {
     "data": {
      "text/plain": [
       "<AxesSubplot: title={'center': 'Feature importance'}, xlabel='Feature importance', ylabel='Features'>"
      ]
     },
     "execution_count": 304,
     "metadata": {},
     "output_type": "execute_result"
    },
    {
     "data": {
      "image/png": "[encoded data removed]",
      "text/plain": [
       "<Figure size 640x480 with 1 Axes>"
      ]
     },
     "metadata": {},
     "output_type": "display_data"
    }
   ],
   "source": [
    "test_rmse = np.sqrt(mean_squared_error(y_test, full_model.predict(X_test)))\n",
    "test_mae = mean_absolute_error(y_test, full_model.predict(X_test))\n",
    "print(f\"Test MAE: {test_mae}, Test RMSE: {test_rmse}\")\n",
    "plot_importance(full_model)"
   ]
  },
  {
   "attachments": {},
   "cell_type": "markdown",
   "metadata": {},
   "source": [
    "## Estimating prediction error with repeated K-fold"
   ]
  },
  {
   "cell_type": "code",
   "execution_count": 305,
   "metadata": {},
   "outputs": [
    {
     "name": "stdout",
     "output_type": "stream",
     "text": [
      "MAE mean: 0.8752155465779767, MAE std: 0.036010568106423856, pissimistic MAE: 0.9472366827908244\n"
     ]
    }
   ],
   "source": [
    "mae = []\n",
    "idx = np.arange(X.shape[0])\n",
    "rkf = RepeatedKFold(n_splits=10, n_repeats=30, random_state=SEED )\n",
    "for fold_idx, (train_idx, valid_idx) in enumerate(rkf.split(idx)):\n",
    "\n",
    "    X_train = X.iloc[train_idx, :]; y_train = y.iloc[train_idx]\n",
    "    X_valid = X.iloc[valid_idx, :]; y_valid = y.iloc[valid_idx]\n",
    "\n",
    "    full_model   = (\n",
    "        lgb.LGBMRegressor(**argmin, **constant_params) .fit(\n",
    "            X_train_full, y_train_full, \n",
    "            feature_name=X.columns.tolist() , \n",
    "            categorical_feature=cat_features,\n",
    "        )\n",
    "    )\n",
    "\n",
    "    mae_ = mean_absolute_error(y_valid, full_model.predict(X_valid))\n",
    "    mae.append(mae_)\n",
    "    print(fold_idx )\n",
    "    clear_output(  )\n",
    "\n",
    "mae_std = np.std (mae)\n",
    "mae_avg = np.mean(mae)\n",
    "pessimistic_mae  = mae_avg + 2 * mae_std\n",
    "print(f\"MAE mean: {mae_avg}, MAE std: {mae_std}, pissimistic MAE: {pessimistic_mae}\")"
   ]
  },
  {
   "attachments": {},
   "cell_type": "markdown",
   "metadata": {},
   "source": [
    "## Make expected price estimates"
   ]
  },
  {
   "cell_type": "code",
   "execution_count": 306,
   "metadata": {},
   "outputs": [],
   "source": [
    "final_model = (\n",
    "    lgb.LGBMRegressor(**argmin, **constant_params) .fit(\n",
    "        X, y, feature_name=X.columns.tolist() , \n",
    "        categorical_feature=cat_features,\n",
    "    )\n",
    ")\n",
    "\n",
    "clear_output()\n",
    "estimated_price = final_model.predict(X)\n",
    "estimated_price_lower = estimated_price - pessimistic_mae\n",
    "estimated_price_upper = estimated_price + pessimistic_mae\n",
    "\n",
    "output = pd.DataFrame(\n",
    "    {\n",
    "        \"id\": ids_,\n",
    "        \"asked_price\": y,\n",
    "        \"estimated_price_lower\": estimated_price_lower,\n",
    "        \"estimated_price\"      : estimated_price,\n",
    "        \"estimated_price_upper\": estimated_price_upper,\n",
    "    }\n",
    ")\n"
   ]
  },
  {
   "cell_type": "code",
   "execution_count": 307,
   "metadata": {},
   "outputs": [],
   "source": [
    "# find over-priced and under-priced apartments\n",
    "underpriced = output.loc[output[\"asked_price\"] <= output[\"estimated_price_lower\"], :  ].copy()\n",
    "overpriced  = output.loc[output[\"asked_price\"] >= output[\"estimated_price_upper\"], :  ].copy()\n",
    "underpriced[\"delta\"] = (output[\"asked_price\"]  / output[\"estimated_price_lower\"]) - 1.0\n",
    "overpriced [\"delta\"] = (output[\"asked_price\"]  / output[\"estimated_price_upper\"]) - 1.0\n",
    "\n",
    "# filter out outliers\n",
    "underpriced = underpriced.loc[underpriced.delta >= -0.15, :]\n",
    "overpriced  = overpriced .loc[overpriced .delta <=  0.15, :]"
   ]
  },
  {
   "cell_type": "code",
   "execution_count": 308,
   "metadata": {},
   "outputs": [
    {
     "name": "stdout",
     "output_type": "stream",
     "text": [
      "Num underpriced apartments: 648\n"
     ]
    },
    {
     "data": {
      "text/html": [
       "<div>\n",
       "<style scoped>\n",
       "    .dataframe tbody tr th:only-of-type {\n",
       "        vertical-align: middle;\n",
       "    }\n",
       "\n",
       "    .dataframe tbody tr th {\n",
       "        vertical-align: top;\n",
       "    }\n",
       "\n",
       "    .dataframe thead th {\n",
       "        text-align: right;\n",
       "    }\n",
       "</style>\n",
       "<table border=\"1\" class=\"dataframe\">\n",
       "  <thead>\n",
       "    <tr style=\"text-align: right;\">\n",
       "      <th></th>\n",
       "      <th>id</th>\n",
       "      <th>asked_price</th>\n",
       "      <th>estimated_price_lower</th>\n",
       "      <th>estimated_price</th>\n",
       "      <th>estimated_price_upper</th>\n",
       "      <th>delta</th>\n",
       "    </tr>\n",
       "  </thead>\n",
       "  <tbody>\n",
       "    <tr>\n",
       "      <th>4647</th>\n",
       "      <td>1238824524</td>\n",
       "      <td>2.99</td>\n",
       "      <td>3.513368</td>\n",
       "      <td>4.460604</td>\n",
       "      <td>5.407841</td>\n",
       "      <td>-0.148965</td>\n",
       "    </tr>\n",
       "    <tr>\n",
       "      <th>4645</th>\n",
       "      <td>1379346252</td>\n",
       "      <td>4.30</td>\n",
       "      <td>5.052515</td>\n",
       "      <td>5.999751</td>\n",
       "      <td>6.946988</td>\n",
       "      <td>-0.148939</td>\n",
       "    </tr>\n",
       "    <tr>\n",
       "      <th>1344</th>\n",
       "      <td>188962908</td>\n",
       "      <td>3.79</td>\n",
       "      <td>4.445560</td>\n",
       "      <td>5.392796</td>\n",
       "      <td>6.340033</td>\n",
       "      <td>-0.147464</td>\n",
       "    </tr>\n",
       "    <tr>\n",
       "      <th>342</th>\n",
       "      <td>2343839564</td>\n",
       "      <td>9.50</td>\n",
       "      <td>11.141547</td>\n",
       "      <td>12.088784</td>\n",
       "      <td>13.036020</td>\n",
       "      <td>-0.147336</td>\n",
       "    </tr>\n",
       "    <tr>\n",
       "      <th>3170</th>\n",
       "      <td>2370131788</td>\n",
       "      <td>7.99</td>\n",
       "      <td>9.348752</td>\n",
       "      <td>10.295989</td>\n",
       "      <td>11.243225</td>\n",
       "      <td>-0.145340</td>\n",
       "    </tr>\n",
       "    <tr>\n",
       "      <th>653</th>\n",
       "      <td>2067572556</td>\n",
       "      <td>4.30</td>\n",
       "      <td>5.030823</td>\n",
       "      <td>5.978059</td>\n",
       "      <td>6.925296</td>\n",
       "      <td>-0.145269</td>\n",
       "    </tr>\n",
       "    <tr>\n",
       "      <th>4731</th>\n",
       "      <td>1211601996</td>\n",
       "      <td>8.90</td>\n",
       "      <td>10.409865</td>\n",
       "      <td>11.357102</td>\n",
       "      <td>12.304338</td>\n",
       "      <td>-0.145042</td>\n",
       "    </tr>\n",
       "    <tr>\n",
       "      <th>1270</th>\n",
       "      <td>3584583500</td>\n",
       "      <td>4.00</td>\n",
       "      <td>4.678532</td>\n",
       "      <td>5.625768</td>\n",
       "      <td>6.573005</td>\n",
       "      <td>-0.145031</td>\n",
       "    </tr>\n",
       "    <tr>\n",
       "      <th>2790</th>\n",
       "      <td>2185401420</td>\n",
       "      <td>4.12</td>\n",
       "      <td>4.815917</td>\n",
       "      <td>5.763153</td>\n",
       "      <td>6.710390</td>\n",
       "      <td>-0.144503</td>\n",
       "    </tr>\n",
       "    <tr>\n",
       "      <th>4586</th>\n",
       "      <td>3134985804</td>\n",
       "      <td>3.59</td>\n",
       "      <td>4.190881</td>\n",
       "      <td>5.138118</td>\n",
       "      <td>6.085354</td>\n",
       "      <td>-0.143378</td>\n",
       "    </tr>\n",
       "  </tbody>\n",
       "</table>\n",
       "</div>"
      ],
      "text/plain": [
       "              id  asked_price  estimated_price_lower  estimated_price  \\\n",
       "4647  1238824524         2.99               3.513368         4.460604   \n",
       "4645  1379346252         4.30               5.052515         5.999751   \n",
       "1344   188962908         3.79               4.445560         5.392796   \n",
       "342   2343839564         9.50              11.141547        12.088784   \n",
       "3170  2370131788         7.99               9.348752        10.295989   \n",
       "653   2067572556         4.30               5.030823         5.978059   \n",
       "4731  1211601996         8.90              10.409865        11.357102   \n",
       "1270  3584583500         4.00               4.678532         5.625768   \n",
       "2790  2185401420         4.12               4.815917         5.763153   \n",
       "4586  3134985804         3.59               4.190881         5.138118   \n",
       "\n",
       "      estimated_price_upper     delta  \n",
       "4647               5.407841 -0.148965  \n",
       "4645               6.946988 -0.148939  \n",
       "1344               6.340033 -0.147464  \n",
       "342               13.036020 -0.147336  \n",
       "3170              11.243225 -0.145340  \n",
       "653                6.925296 -0.145269  \n",
       "4731              12.304338 -0.145042  \n",
       "1270               6.573005 -0.145031  \n",
       "2790               6.710390 -0.144503  \n",
       "4586               6.085354 -0.143378  "
      ]
     },
     "execution_count": 308,
     "metadata": {},
     "output_type": "execute_result"
    }
   ],
   "source": [
    "print(f\"Num underpriced apartments: {underpriced.shape[0]}\")\n",
    "underpriced.sort_values(\"delta\", ascending=True ).head( 10 )"
   ]
  },
  {
   "cell_type": "code",
   "execution_count": 309,
   "metadata": {},
   "outputs": [
    {
     "name": "stdout",
     "output_type": "stream",
     "text": [
      "Num overpriced apartments: 743\n"
     ]
    },
    {
     "data": {
      "text/html": [
       "<div>\n",
       "<style scoped>\n",
       "    .dataframe tbody tr th:only-of-type {\n",
       "        vertical-align: middle;\n",
       "    }\n",
       "\n",
       "    .dataframe tbody tr th {\n",
       "        vertical-align: top;\n",
       "    }\n",
       "\n",
       "    .dataframe thead th {\n",
       "        text-align: right;\n",
       "    }\n",
       "</style>\n",
       "<table border=\"1\" class=\"dataframe\">\n",
       "  <thead>\n",
       "    <tr style=\"text-align: right;\">\n",
       "      <th></th>\n",
       "      <th>id</th>\n",
       "      <th>asked_price</th>\n",
       "      <th>estimated_price_lower</th>\n",
       "      <th>estimated_price</th>\n",
       "      <th>estimated_price_upper</th>\n",
       "      <th>delta</th>\n",
       "    </tr>\n",
       "  </thead>\n",
       "  <tbody>\n",
       "    <tr>\n",
       "      <th>4461</th>\n",
       "      <td>3244001100</td>\n",
       "      <td>6.736112</td>\n",
       "      <td>3.963445</td>\n",
       "      <td>4.910681</td>\n",
       "      <td>5.857918</td>\n",
       "      <td>0.149916</td>\n",
       "    </tr>\n",
       "    <tr>\n",
       "      <th>1212</th>\n",
       "      <td>4182109020</td>\n",
       "      <td>17.124500</td>\n",
       "      <td>13.007908</td>\n",
       "      <td>13.955145</td>\n",
       "      <td>14.902382</td>\n",
       "      <td>0.149112</td>\n",
       "    </tr>\n",
       "    <tr>\n",
       "      <th>1694</th>\n",
       "      <td>2769246028</td>\n",
       "      <td>7.690000</td>\n",
       "      <td>4.798174</td>\n",
       "      <td>5.745410</td>\n",
       "      <td>6.692647</td>\n",
       "      <td>0.149022</td>\n",
       "    </tr>\n",
       "    <tr>\n",
       "      <th>1918</th>\n",
       "      <td>3355907916</td>\n",
       "      <td>10.950000</td>\n",
       "      <td>7.647506</td>\n",
       "      <td>8.594742</td>\n",
       "      <td>9.541979</td>\n",
       "      <td>0.147561</td>\n",
       "    </tr>\n",
       "    <tr>\n",
       "      <th>441</th>\n",
       "      <td>878486604</td>\n",
       "      <td>13.500000</td>\n",
       "      <td>9.870619</td>\n",
       "      <td>10.817855</td>\n",
       "      <td>11.765092</td>\n",
       "      <td>0.147462</td>\n",
       "    </tr>\n",
       "    <tr>\n",
       "      <th>1855</th>\n",
       "      <td>850377052</td>\n",
       "      <td>13.990000</td>\n",
       "      <td>10.312893</td>\n",
       "      <td>11.260129</td>\n",
       "      <td>12.207366</td>\n",
       "      <td>0.146029</td>\n",
       "    </tr>\n",
       "    <tr>\n",
       "      <th>3858</th>\n",
       "      <td>1478510412</td>\n",
       "      <td>15.450000</td>\n",
       "      <td>11.589423</td>\n",
       "      <td>12.536659</td>\n",
       "      <td>13.483896</td>\n",
       "      <td>0.145811</td>\n",
       "    </tr>\n",
       "    <tr>\n",
       "      <th>1116</th>\n",
       "      <td>508761932</td>\n",
       "      <td>5.534000</td>\n",
       "      <td>2.937763</td>\n",
       "      <td>3.885000</td>\n",
       "      <td>4.832237</td>\n",
       "      <td>0.145225</td>\n",
       "    </tr>\n",
       "    <tr>\n",
       "      <th>3635</th>\n",
       "      <td>177538892</td>\n",
       "      <td>13.900000</td>\n",
       "      <td>10.257965</td>\n",
       "      <td>11.205202</td>\n",
       "      <td>12.152439</td>\n",
       "      <td>0.143803</td>\n",
       "    </tr>\n",
       "    <tr>\n",
       "      <th>478</th>\n",
       "      <td>2443628124</td>\n",
       "      <td>16.948921</td>\n",
       "      <td>12.929215</td>\n",
       "      <td>13.876451</td>\n",
       "      <td>14.823688</td>\n",
       "      <td>0.143367</td>\n",
       "    </tr>\n",
       "  </tbody>\n",
       "</table>\n",
       "</div>"
      ],
      "text/plain": [
       "              id  asked_price  estimated_price_lower  estimated_price  \\\n",
       "4461  3244001100     6.736112               3.963445         4.910681   \n",
       "1212  4182109020    17.124500              13.007908        13.955145   \n",
       "1694  2769246028     7.690000               4.798174         5.745410   \n",
       "1918  3355907916    10.950000               7.647506         8.594742   \n",
       "441    878486604    13.500000               9.870619        10.817855   \n",
       "1855   850377052    13.990000              10.312893        11.260129   \n",
       "3858  1478510412    15.450000              11.589423        12.536659   \n",
       "1116   508761932     5.534000               2.937763         3.885000   \n",
       "3635   177538892    13.900000              10.257965        11.205202   \n",
       "478   2443628124    16.948921              12.929215        13.876451   \n",
       "\n",
       "      estimated_price_upper     delta  \n",
       "4461               5.857918  0.149916  \n",
       "1212              14.902382  0.149112  \n",
       "1694               6.692647  0.149022  \n",
       "1918               9.541979  0.147561  \n",
       "441               11.765092  0.147462  \n",
       "1855              12.207366  0.146029  \n",
       "3858              13.483896  0.145811  \n",
       "1116               4.832237  0.145225  \n",
       "3635              12.152439  0.143803  \n",
       "478               14.823688  0.143367  "
      ]
     },
     "execution_count": 309,
     "metadata": {},
     "output_type": "execute_result"
    }
   ],
   "source": [
    "print(f\"Num overpriced apartments: {overpriced .shape[0]}\")\n",
    "overpriced .sort_values(\"delta\", ascending=False ).head(10)"
   ]
  }
 ],
 "metadata": {
  "kernelspec": {
   "display_name": ".venv",
   "language": "python",
   "name": "python3"
  },
  "language_info": {
   "codemirror_mode": {
    "name": "ipython",
    "version": 3
   },
   "file_extension": ".py",
   "mimetype": "text/x-python",
   "name": "python",
   "nbconvert_exporter": "python",
   "pygments_lexer": "ipython3",
   "version": "3.8.10"
  },
  "orig_nbformat": 4,
  "vscode": {
   "interpreter": {
    "hash": "412544625d25094bf1aa584b54c875b14c200e1d605aa9985667f24ac3d95957"
   }
  }
 },
 "nbformat": 4,
 "nbformat_minor": 2
}
